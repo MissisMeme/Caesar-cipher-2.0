{
 "cells": [
  {
   "cell_type": "code",
   "execution_count": null,
   "metadata": {},
   "outputs": [],
   "source": [
    "#Ключ (сдвиг, шаг) равен длине каждого отдельного слова в тексте\n",
    "code = ''\n",
    "alphabet = 'abcdefghijklmnopqrstuvwxyz'\n",
    "           \n",
    "\n",
    "def base(i, key):\n",
    "    sym_ind = alphabet.index(i) + key\n",
    "    if sym_ind >= len(alphabet):\n",
    "        sym = alphabet[sym_ind - len(alphabet)]\n",
    "        return sym\n",
    "    else:\n",
    "        sym = alphabet[sym_ind]\n",
    "        return sym\n",
    "\n",
    "\n",
    "text = input('Введите текст:').split() \n",
    "\n",
    "def key(n):\n",
    "    lenth = len(n)\n",
    "    for i in n:\n",
    "        if i in ' .,-_!?\"\\'':\n",
    "            lenth -= 1\n",
    "    return lenth        \n",
    "            \n",
    "\n",
    "for c in text:\n",
    "    l = key(c)\n",
    "    for k in c:\n",
    "        if k in ' .,-_!?\"\\'':\n",
    "            code += k\n",
    "        elif k.isupper():\n",
    "            k = k.lower()\n",
    "            code += base(k, l).upper()            \n",
    "        else:  \n",
    "            code += base(k, l)\n",
    "    code += ' '         \n",
    "\n",
    "\n",
    "print(code)\n"
   ]
  }
 ],
 "metadata": {
  "kernelspec": {
   "display_name": "Python 3",
   "language": "python",
   "name": "python3"
  },
  "language_info": {
   "codemirror_mode": {
    "name": "ipython",
    "version": 3
   },
   "file_extension": ".py",
   "mimetype": "text/x-python",
   "name": "python",
   "nbconvert_exporter": "python",
   "pygments_lexer": "ipython3",
   "version": "3.11.1"
  },
  "orig_nbformat": 4,
  "vscode": {
   "interpreter": {
    "hash": "aa6119eee871b6b90dd2488cf7a0dd322d438c46ec78336e6697d50fbeb1d49e"
   }
  }
 },
 "nbformat": 4,
 "nbformat_minor": 2
}
